{
 "cells": [
  {
   "cell_type": "markdown",
   "id": "20870f16-278c-435a-b1b7-80c85a4f9369",
   "metadata": {},
   "source": [
    "# 0. Installing Importing Modules "
   ]
  },
  {
   "cell_type": "code",
   "execution_count": 1,
   "id": "3554dac9-39fe-42bb-b29e-63681a13bf48",
   "metadata": {},
   "outputs": [],
   "source": [
    "import pandas as pd\n",
    "import numpy as np\n",
    "import matplotlib.pyplot as plt\n",
    "import seaborn as sns\n",
    "\n",
    "import xgboost as xgb # forecasting"
   ]
  },
  {
   "cell_type": "markdown",
   "id": "24dc59c7-3cfe-4df2-8a4a-f3373ce9ba11",
   "metadata": {},
   "source": [
    "## Types of TimeSeries Data"
   ]
  },
  {
   "cell_type": "markdown",
   "id": "a7b0bc83-74a4-4d82-bdf1-182d39080d59",
   "metadata": {},
   "source": [
    "<img src=\"img/TypesTSD.jpeg\" width=700px>"
   ]
  },
  {
   "cell_type": "code",
   "execution_count": 4,
   "id": "7366004a-456a-4177-b591-b57ac232566a",
   "metadata": {},
   "outputs": [],
   "source": [
    "df = pd.read_csv('datasets/PJME_hourly.csv')"
   ]
  }
 ],
 "metadata": {
  "kernelspec": {
   "display_name": "Python 3 (ipykernel)",
   "language": "python",
   "name": "python3"
  },
  "language_info": {
   "codemirror_mode": {
    "name": "ipython",
    "version": 3
   },
   "file_extension": ".py",
   "mimetype": "text/x-python",
   "name": "python",
   "nbconvert_exporter": "python",
   "pygments_lexer": "ipython3",
   "version": "3.10.7"
  }
 },
 "nbformat": 4,
 "nbformat_minor": 5
}
