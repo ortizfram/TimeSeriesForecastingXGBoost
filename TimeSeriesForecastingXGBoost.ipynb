{
 "cells": [
  {
   "cell_type": "markdown",
   "id": "20870f16-278c-435a-b1b7-80c85a4f9369",
   "metadata": {},
   "source": [
    "# 0. Installing Importing Modules "
   ]
  },
  {
   "cell_type": "code",
   "execution_count": 1,
   "id": "3554dac9-39fe-42bb-b29e-63681a13bf48",
   "metadata": {},
   "outputs": [],
   "source": [
    "import pandas as pd\n",
    "import numpy as np\n",
    "import matplotlib.pyplot as plt\n",
    "import seaborn as sns\n",
    "\n",
    "import xgboost as xgb # forecasting"
   ]
  },
  {
   "cell_type": "markdown",
   "id": "24dc59c7-3cfe-4df2-8a4a-f3373ce9ba11",
   "metadata": {},
   "source": [
    "## Types of TimeSeries Data"
   ]
  },
  {
   "cell_type": "code",
   "execution_count": null,
   "id": "f76fb01f-9bd9-4571-9820-03f0b34e9ce6",
   "metadata": {},
   "outputs": [],
   "source": [
    "<img src=\"img/TypesT>"
   ]
  }
 ],
 "metadata": {
  "kernelspec": {
   "display_name": "Python 3 (ipykernel)",
   "language": "python",
   "name": "python3"
  },
  "language_info": {
   "codemirror_mode": {
    "name": "ipython",
    "version": 3
   },
   "file_extension": ".py",
   "mimetype": "text/x-python",
   "name": "python",
   "nbconvert_exporter": "python",
   "pygments_lexer": "ipython3",
   "version": "3.10.7"
  }
 },
 "nbformat": 4,
 "nbformat_minor": 5
}
